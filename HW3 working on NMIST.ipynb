{
  "nbformat": 4,
  "nbformat_minor": 0,
  "metadata": {
    "colab": {
      "name": "HW3_working_on_NMIST_v17.ipynb",
      "provenance": [],
      "collapsed_sections": [],
      "authorship_tag": "ABX9TyPbqMiwWX/NzchKskApGIcG",
      "include_colab_link": true
    },
    "kernelspec": {
      "name": "python3",
      "display_name": "Python 3"
    }
  },
  "cells": [
    {
      "cell_type": "markdown",
      "metadata": {
        "id": "view-in-github",
        "colab_type": "text"
      },
      "source": [
        "<a href=\"https://colab.research.google.com/github/ricyoung/cs689/blob/master/HW3%20working%20on%20NMIST.ipynb\" target=\"_parent\"><img src=\"https://colab.research.google.com/assets/colab-badge.svg\" alt=\"Open In Colab\"/></a>"
      ]
    },
    {
      "cell_type": "code",
      "metadata": {
        "id": "L55gITEF882w",
        "colab_type": "code",
        "colab": {}
      },
      "source": [
        "import pandas as pd\n",
        "import numpy as np\n",
        "import matplotlib.pyplot as plt\n"
      ],
      "execution_count": 0,
      "outputs": []
    },
    {
      "cell_type": "markdown",
      "metadata": {
        "id": "KkJo7qL49C2x",
        "colab_type": "text"
      },
      "source": [
        "**simple LR on Mnist**"
      ]
    },
    {
      "cell_type": "code",
      "metadata": {
        "id": "-sMxGTiL9wn2",
        "colab_type": "code",
        "colab": {}
      },
      "source": [
        "#retrive data\n",
        "mnist = pd.read_csv('https://mkang.faculty.unlv.edu/teaching/CS489_689/HW3/MNIST_15_15.csv', header = None)\n",
        "mnist_label = pd.read_csv('https://mkang.faculty.unlv.edu/teaching/CS489_689/HW3/MNIST_LABEL.csv', header = None)\n",
        "train_data = mnist\n",
        "test_data = mnist_label"
      ],
      "execution_count": 0,
      "outputs": []
    },
    {
      "cell_type": "code",
      "metadata": {
        "id": "9l2JjMBJQBvB",
        "colab_type": "code",
        "colab": {}
      },
      "source": [
        "# train_data"
      ],
      "execution_count": 0,
      "outputs": []
    },
    {
      "cell_type": "code",
      "metadata": {
        "id": "gmq1EboUPebB",
        "colab_type": "code",
        "colab": {
          "base_uri": "https://localhost:8080/",
          "height": 140
        },
        "outputId": "851396ca-ab67-4ecd-cac0-a9c666650e94"
      },
      "source": [
        "from sklearn.preprocessing import MinMaxScaler\n",
        "scaler = MinMaxScaler(feature_range=(0, 1))\n",
        "rescaledX = scaler.fit_transform(train_data)\n",
        "# rescaledX"
      ],
      "execution_count": 4,
      "outputs": [
        {
          "output_type": "execute_result",
          "data": {
            "text/plain": [
              "array([[0., 0., 0., ..., 0., 0., 0.],\n",
              "       [0., 0., 0., ..., 0., 0., 0.],\n",
              "       [0., 0., 0., ..., 0., 0., 0.],\n",
              "       ...,\n",
              "       [0., 0., 0., ..., 0., 0., 0.],\n",
              "       [0., 0., 0., ..., 0., 0., 0.],\n",
              "       [0., 0., 0., ..., 0., 0., 0.]])"
            ]
          },
          "metadata": {
            "tags": []
          },
          "execution_count": 4
        }
      ]
    },
    {
      "cell_type": "code",
      "metadata": {
        "id": "euClQNUf9yLm",
        "colab_type": "code",
        "colab": {}
      },
      "source": [
        "#shuffle the data index for extracting the data later\n",
        "data_index = np.arange(rescaledX.shape[0])\n",
        "np.random.shuffle(data_index)"
      ],
      "execution_count": 0,
      "outputs": []
    },
    {
      "cell_type": "code",
      "metadata": {
        "id": "dc2HbtpDUw7_",
        "colab_type": "code",
        "outputId": "00f11f8f-2d15-4950-d464-dfb5033b647c",
        "colab": {
          "base_uri": "https://localhost:8080/",
          "height": 34
        }
      },
      "source": [
        "n, p = rescaledX.shape\n",
        "n,p "
      ],
      "execution_count": 6,
      "outputs": [
        {
          "output_type": "execute_result",
          "data": {
            "text/plain": [
              "(335, 225)"
            ]
          },
          "metadata": {
            "tags": []
          },
          "execution_count": 6
        }
      ]
    },
    {
      "cell_type": "code",
      "metadata": {
        "id": "cz-V-V3Zlyy7",
        "colab_type": "code",
        "colab": {}
      },
      "source": [
        "# we convert a regression problem to a classification problem (discretization)\n",
        "y = np.zeros(n)\n",
        "y[train_data.iloc[:, -1] > 23] = 1\n",
        "\n",
        "# data preparation for training data\n",
        "X = train_data.iloc[:, 0:-1]\n",
        "X = pd.DataFrame(np.c_[np.ones(n), X])\n",
        "\n",
        "# from sklearn.model_selection import KFold\n",
        "# X = mnist\n",
        "# y = mnist_label\n",
        "# kf = KFold(n_splits=10)\n",
        "# kf.get_n_splits(X)\n",
        "# # https://scikit-learn.org/stable/modules/generated/sklearn.model_selection.KFold.html\n",
        "# print(kf)\n",
        "\n",
        "\n",
        "# data preparation for test data\n",
        "y_groundtruth = np.zeros(test_data.shape[0])\n",
        "y_groundtruth[test_data.iloc[:, -1] > 23] = 1\n",
        "\n",
        "X_test = test_data.iloc[:, 0:-1]\n",
        "X_test = pd.DataFrame(np.c_[np.ones(n), X_test])\n",
        "\n",
        "data_index = np.arange(mnist.shape[0])\n",
        "np.random.shuffle(data_index)\n",
        "\n",
        "##"
      ],
      "execution_count": 0,
      "outputs": []
    },
    {
      "cell_type": "code",
      "metadata": {
        "id": "uJyRznkOO5M0",
        "colab_type": "code",
        "colab": {}
      },
      "source": [
        "# from sklearn.preprocessing import MinMaxScaler\n",
        "# scaler = MinMaxScaler(feature_range=(0, 1))\n",
        "# rescaledX = scaler.fit_transform(train_data)\n",
        "# rescaledX"
      ],
      "execution_count": 0,
      "outputs": []
    },
    {
      "cell_type": "code",
      "metadata": {
        "id": "7CPVWdau91QO",
        "colab_type": "code",
        "colab": {}
      },
      "source": [
        "#k-fold - split data index into 10parts\n",
        "batch = []\n",
        "for i in range (10):\n",
        "    batch.append([])\n",
        "    for j in range (len(data_index)):\n",
        "        if j%10 == i:\n",
        "            batch[i].append(data_index[j])\n",
        "\n"
      ],
      "execution_count": 0,
      "outputs": []
    },
    {
      "cell_type": "code",
      "metadata": {
        "id": "qq-GIxzZ8_WA",
        "colab_type": "code",
        "outputId": "97e75877-dda6-4ef1-f0d1-6e9f2cd4ee83",
        "colab": {
          "base_uri": "https://localhost:8080/",
          "height": 1000
        }
      },
      "source": [
        "#loop for each batch\n",
        "\n",
        "for i in range(len(batch)):\n",
        "    #X is the train data, y is the labels\n",
        "    X = train_data.__deepcopy__()\n",
        "    y = test_data.__deepcopy__()\n",
        "    #drop the selected set of data index(test data) from X and add a column of intercept\n",
        "    X = np.array(X.drop(batch[i]))\n",
        "    ones = np.ones((X.shape[0],1))\n",
        "    X = np.hstack((X,ones))\n",
        "    #drop the selected set of data index(test data) from the label, also change label, 5 to -1, 6 to 1\n",
        "    y = np.array(y.drop(batch[i]))*2-11\n",
        "    std = np.std(X,axis = 1)\n",
        "\n",
        "    ###standard deviation normalization by column\n",
        "    std =np.std(X, axis = 0)\n",
        "    mean = np.mean(X, axis = 0)\n",
        "    for j in range(X.shape[0]):\n",
        "        for k in range(X.shape[1]):\n",
        "            if std[k] > 0:\n",
        "                X[j][k] = (X[j][k]-mean[k])/std[k]\n",
        "\n",
        "    #find the coefficient (Kang code)\n",
        "    b = ((np.linalg.inv(np.transpose(X).dot(X)+0.1*np.identity(X.shape[1]))).dot(np.transpose(X))).dot(y)\n",
        "\n",
        "    #retrieve the test data\n",
        "    test_X =[]\n",
        "    test_y =[]\n",
        "    for j in range (len(batch[i])):\n",
        "        test_X.append(train_data.loc[batch[i][j]])\n",
        "        test_y.append(test_data.loc[batch[i][j]])\n",
        "    test_X = np.array(test_X)\n",
        "    ones = np.ones((test_X.shape[0],1))\n",
        "    test_X = np.hstack((test_X,ones))\n",
        "\n",
        "    #retrieve the actual answers\n",
        "    test_y = np.array(test_y)\n",
        "\n",
        "    #calculate prediction\n",
        "    prediction = test_X.dot(b)\n",
        "\n",
        "    #make the attual answer and prediction \n",
        "    test_y = test_y.flatten()\n",
        "    prediction = prediction.flatten()\n",
        "\n",
        "# sum(np.array(np.dot(test_X, b) > 0.5) == y_groundtruth) / len(y_groundtruth)\n",
        "\n",
        "\n",
        "    #like in class if the prediction < 0, it is 5, if prediction > 0, it is 6\n",
        "    correct_5 = 0\n",
        "    correct_6 = 0\n",
        "    incorrect =0\n",
        "    fpr_5 = 0\n",
        "    fpr_6 = 0\n",
        " \n",
        "\n",
        "    for j in range(len(prediction)):\n",
        "        # print (j)\n",
        "        if prediction[j] > 0 and test_y[j]==6:\n",
        "          correct_6+=1\n",
        "            \n",
        "        elif prediction[j] < 0 and test_y[j]==5:\n",
        "            correct_5+=1\n",
        "            \n",
        "            #fpr\n",
        "        elif prediction[j] < 0 and test_y[j]==6:\n",
        "            fpr_5+=1 \n",
        "\n",
        "        elif prediction[j] > 0 and test_y[j]==5:\n",
        "            fpr_6+=1         \n",
        "        else:\n",
        "            incorrect +=1\n",
        "            # pass\n",
        "    correct_count=(correct_5+correct_6)\n",
        "    incorrect =(fpr_5+fpr_6)\n",
        "    \n",
        "    print (\"iteration\", i+1,)\n",
        "    # print(\"prediction\",prediction)\n",
        "    print(\"accuracy:\",correct_count/len(test_y))\n",
        "    print(\"Correct\",correct_count)\n",
        "    print(\"Incorrect\",incorrect)\n",
        "    print(\"TP\",correct_5)\n",
        "    print(\"TN\",correct_6)\n",
        "    # print(\"tpr5\",fpr_5)\n",
        "    # print(\"tpr6\",fpr_6)\n",
        "    print(\"FP\",fpr_5)\n",
        "    print(\"FN\",fpr_6,\"\\n\" )\n",
        "    \n",
        "\n",
        "\"\"\n",
        "RMSE = (np.sum((np.dot(X, b) - y)**2)/n)**0.5\n",
        "print('rmse',RMSE)\n",
        "\n"
      ],
      "execution_count": 15,
      "outputs": [
        {
          "output_type": "stream",
          "text": [
            "iteration 1\n",
            "accuracy: 0.9117647058823529\n",
            "Correct 31\n",
            "Incorrect 3\n",
            "TP 13\n",
            "TN 18\n",
            "FP 1\n",
            "FN 2 \n",
            "\n",
            "iteration 2\n",
            "accuracy: 0.9117647058823529\n",
            "Correct 31\n",
            "Incorrect 3\n",
            "TP 15\n",
            "TN 16\n",
            "FP 2\n",
            "FN 1 \n",
            "\n",
            "iteration 3\n",
            "accuracy: 0.8529411764705882\n",
            "Correct 29\n",
            "Incorrect 5\n",
            "TP 17\n",
            "TN 12\n",
            "FP 1\n",
            "FN 4 \n",
            "\n",
            "iteration 4\n",
            "accuracy: 0.8823529411764706\n",
            "Correct 30\n",
            "Incorrect 4\n",
            "TP 10\n",
            "TN 20\n",
            "FP 0\n",
            "FN 4 \n",
            "\n",
            "iteration 5\n",
            "accuracy: 0.8529411764705882\n",
            "Correct 29\n",
            "Incorrect 5\n",
            "TP 12\n",
            "TN 17\n",
            "FP 1\n",
            "FN 4 \n",
            "\n",
            "iteration 6\n",
            "accuracy: 0.9090909090909091\n",
            "Correct 30\n",
            "Incorrect 3\n",
            "TP 13\n",
            "TN 17\n",
            "FP 0\n",
            "FN 3 \n",
            "\n",
            "iteration 7\n",
            "accuracy: 0.9090909090909091\n",
            "Correct 30\n",
            "Incorrect 3\n",
            "TP 12\n",
            "TN 18\n",
            "FP 0\n",
            "FN 3 \n",
            "\n",
            "iteration 8\n",
            "accuracy: 0.9090909090909091\n",
            "Correct 30\n",
            "Incorrect 3\n",
            "TP 12\n",
            "TN 18\n",
            "FP 1\n",
            "FN 2 \n",
            "\n",
            "iteration 9\n",
            "accuracy: 0.9090909090909091\n",
            "Correct 30\n",
            "Incorrect 3\n",
            "TP 15\n",
            "TN 15\n",
            "FP 0\n",
            "FN 3 \n",
            "\n",
            "iteration 10\n",
            "accuracy: 0.9393939393939394\n",
            "Correct 31\n",
            "Incorrect 2\n",
            "TP 15\n",
            "TN 16\n",
            "FP 1\n",
            "FN 1 \n",
            "\n",
            "rmse 0.26916125134909286\n"
          ],
          "name": "stdout"
        }
      ]
    },
    {
      "cell_type": "code",
      "metadata": {
        "id": "oaj-sy5x9hyT",
        "colab_type": "code",
        "colab": {}
      },
      "source": [
        ""
      ],
      "execution_count": 0,
      "outputs": []
    }
  ]
}