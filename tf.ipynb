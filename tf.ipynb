{
  "nbformat": 4,
  "nbformat_minor": 0,
  "metadata": {
    "colab": {
      "name": "tf.ipynb",
      "provenance": [],
      "collapsed_sections": [],
      "authorship_tag": "ABX9TyNP6DlzWpCT4MXMqDO3W2/f",
      "include_colab_link": true
    },
    "kernelspec": {
      "name": "python3",
      "display_name": "Python 3"
    },
    "accelerator": "GPU"
  },
  "cells": [
    {
      "cell_type": "markdown",
      "metadata": {
        "id": "view-in-github",
        "colab_type": "text"
      },
      "source": [
        "<a href=\"https://colab.research.google.com/github/ricyoung/cs689/blob/master/tf.ipynb\" target=\"_parent\"><img src=\"https://colab.research.google.com/assets/colab-badge.svg\" alt=\"Open In Colab\"/></a>"
      ]
    },
    {
      "cell_type": "code",
      "metadata": {
        "id": "DNjeLJ0bJzo0",
        "colab_type": "code",
        "colab": {
          "base_uri": "https://localhost:8080/",
          "height": 63
        },
        "outputId": "f2b903b6-d25c-4ef9-ff2b-d6e446fc5597"
      },
      "source": [
        "import tensorflow as tf"
      ],
      "execution_count": 1,
      "outputs": [
        {
          "output_type": "display_data",
          "data": {
            "text/html": [
              "<p style=\"color: red;\">\n",
              "The default version of TensorFlow in Colab will soon switch to TensorFlow 2.x.<br>\n",
              "We recommend you <a href=\"https://www.tensorflow.org/guide/migrate\" target=\"_blank\">upgrade</a> now \n",
              "or ensure your notebook will continue to use TensorFlow 1.x via the <code>%tensorflow_version 1.x</code> magic:\n",
              "<a href=\"https://colab.research.google.com/notebooks/tensorflow_version.ipynb\" target=\"_blank\">more info</a>.</p>\n"
            ],
            "text/plain": [
              "<IPython.core.display.HTML object>"
            ]
          },
          "metadata": {
            "tags": []
          }
        }
      ]
    },
    {
      "cell_type": "code",
      "metadata": {
        "id": "T6spWSEoJ0a7",
        "colab_type": "code",
        "colab": {
          "base_uri": "https://localhost:8080/",
          "height": 272
        },
        "outputId": "172fb5ba-5f01-42cb-f19c-8d309a5198ae"
      },
      "source": [
        "#MNIST dataset from keras\n",
        "mnist = tf.keras.datasets.mnist\n",
        "\n",
        "#tuples that have image in x and value in y.\n",
        "(x_train, y_train), (x_test, y_test) = mnist.load_data()\n",
        "\n",
        "#reduces to 0-1 from 0-255\n",
        "#this may not have much of a change on the output\n",
        "x_train = tf.keras.utils.normalize(x_train, axis=1)\n",
        "x_test = tf.keras.utils.normalize(x_test, axis=1)\n",
        "\n",
        "#Using sequential model with 2 layered neural network with each having 128 neurons\n",
        "model = tf.keras.models.Sequential()\n",
        "model.add(tf.keras.layers.Flatten())\n",
        "model.add(tf.keras.layers.Dense(128, activation=tf.nn.relu))\n",
        "model.add(tf.keras.layers.Dense(10, activation=tf.nn.softmax))\n",
        "\n",
        "\n",
        "model.compile(optimizer= 'adam',\n",
        "              loss='sparse_categorical_crossentropy',\n",
        "              metrics=['accuracy'])\n",
        "\n",
        "model.fit(x_train, y_train, epochs=50)\n",
        "\n",
        "val_loss, val_acc = model.evaluate(x_test, y_test)\n",
        "print(val_acc, val_loss)"
      ],
      "execution_count": 0,
      "outputs": [
        {
          "output_type": "stream",
          "text": [
            "Train on 60000 samples\n",
            "Epoch 1/50\n",
            "60000/60000 [==============================] - 4s 60us/sample - loss: 0.3083 - acc: 0.9152\n",
            "Epoch 2/50\n",
            "60000/60000 [==============================] - 4s 59us/sample - loss: 0.1395 - acc: 0.9585\n",
            "Epoch 3/50\n",
            "60000/60000 [==============================] - 4s 60us/sample - loss: 0.0952 - acc: 0.9715\n",
            "Epoch 4/50\n",
            "60000/60000 [==============================] - 4s 59us/sample - loss: 0.0721 - acc: 0.9781\n",
            "Epoch 5/50\n",
            "60000/60000 [==============================] - 4s 61us/sample - loss: 0.0559 - acc: 0.9838\n",
            "Epoch 6/50\n",
            "60000/60000 [==============================] - 4s 61us/sample - loss: 0.0440 - acc: 0.9869\n",
            "Epoch 7/50\n",
            "34784/60000 [================>.............] - ETA: 1s - loss: 0.0339 - acc: 0.9905"
          ],
          "name": "stdout"
        }
      ]
    }
  ]
}