{
  "nbformat": 4,
  "nbformat_minor": 0,
  "metadata": {
    "colab": {
      "name": "hw4_tf2ipynb",
      "provenance": [],
      "authorship_tag": "ABX9TyMSFq8JI5WMFAZpzmz1UbRE",
      "include_colab_link": true
    },
    "kernelspec": {
      "name": "python3",
      "display_name": "Python 3"
    }
  },
  "cells": [
    {
      "cell_type": "markdown",
      "metadata": {
        "id": "view-in-github",
        "colab_type": "text"
      },
      "source": [
        "<a href=\"https://colab.research.google.com/github/ricyoung/cs689/blob/master/hw4_tf2ipynb.ipynb\" target=\"_parent\"><img src=\"https://colab.research.google.com/assets/colab-badge.svg\" alt=\"Open In Colab\"/></a>"
      ]
    },
    {
      "cell_type": "code",
      "metadata": {
        "id": "CBskq6L5Kkne",
        "colab_type": "code",
        "colab": {}
      },
      "source": [
        "import tensorflow as tf\n",
        "import numpy as np\n",
        "import tensorflow_datasets as tfds\n"
      ],
      "execution_count": 0,
      "outputs": []
    },
    {
      "cell_type": "code",
      "metadata": {
        "id": "aTw9KiFGKkg1",
        "colab_type": "code",
        "colab": {}
      },
      "source": [
        ""
      ],
      "execution_count": 0,
      "outputs": []
    },
    {
      "cell_type": "code",
      "metadata": {
        "id": "04lkY-EmKken",
        "colab_type": "code",
        "colab": {}
      },
      "source": [
        ""
      ],
      "execution_count": 0,
      "outputs": []
    },
    {
      "cell_type": "code",
      "metadata": {
        "id": "y9211TcMKkcR",
        "colab_type": "code",
        "colab": {}
      },
      "source": [
        "mnist_dataset, mnist_info = tfds.load(name = 'mnist', with_info=True, as_supervised=True)\n",
        "\n"
      ],
      "execution_count": 0,
      "outputs": []
    },
    {
      "cell_type": "code",
      "metadata": {
        "id": "-SQLmheRKkaB",
        "colab_type": "code",
        "colab": {
          "base_uri": "https://localhost:8080/",
          "height": 451
        },
        "outputId": "bc1d6983-54d4-4ff9-9ba6-b1a1e311c95b"
      },
      "source": [
        "print(mnist_info) "
      ],
      "execution_count": 11,
      "outputs": [
        {
          "output_type": "stream",
          "text": [
            "tfds.core.DatasetInfo(\n",
            "    name='mnist',\n",
            "    version=3.0.0,\n",
            "    description='The MNIST database of handwritten digits.',\n",
            "    homepage='http://yann.lecun.com/exdb/mnist/',\n",
            "    features=FeaturesDict({\n",
            "        'image': Image(shape=(28, 28, 1), dtype=tf.uint8),\n",
            "        'label': ClassLabel(shape=(), dtype=tf.int64, num_classes=10),\n",
            "    }),\n",
            "    total_num_examples=70000,\n",
            "    splits={\n",
            "        'test': 10000,\n",
            "        'train': 60000,\n",
            "    },\n",
            "    supervised_keys=('image', 'label'),\n",
            "    citation=\"\"\"@article{lecun2010mnist,\n",
            "      title={MNIST handwritten digit database},\n",
            "      author={LeCun, Yann and Cortes, Corinna and Burges, CJ},\n",
            "      journal={ATT Labs [Online]. Available: http://yann. lecun. com/exdb/mnist},\n",
            "      volume={2},\n",
            "      year={2010}\n",
            "    }\"\"\",\n",
            "    redistribution_info=,\n",
            ")\n",
            "\n"
          ],
          "name": "stdout"
        }
      ]
    },
    {
      "cell_type": "code",
      "metadata": {
        "id": "XNOv1Iq5KkUw",
        "colab_type": "code",
        "colab": {}
      },
      "source": [
        "# one hot encode for 10 MNIST classes\n",
        "def my_one_hot(feature, label):\n",
        "    return feature, tf.one_hot(label, depth=10)\n",
        "\n",
        "# load your data from tfds\n",
        "mnist_train, train_info = tfds.load(name=\"mnist\", with_info=True, as_supervised=True, split=tfds.Split.TRAIN)\n",
        "\n",
        "# convert your labels in one-hot\n",
        "mnist_train = mnist_train.map(my_one_hot)\n",
        "\n",
        "# you can batch your data here\n",
        "mnist_train = mnist_train.batch(8)"
      ],
      "execution_count": 0,
      "outputs": []
    },
    {
      "cell_type": "code",
      "metadata": {
        "id": "mlG7fZ6hKkRy",
        "colab_type": "code",
        "colab": {}
      },
      "source": [
        "# batch_size=-1 to get the full dataset in NumPy arrays from the returned tf.Tensor object\n",
        "mnist_train = tfds.load(name=\"mnist\", split=tfds.Split.TRAIN, batch_size=-1 ) \n",
        "mnist_test = tfds.load(name=\"mnist\", split=tfds.Split.TEST, batch_size=-1)\n",
        "\n",
        "# tfds.as_numpy return a generator that yields NumPy array records out of a tf.data.Dataset\n",
        "mnist_train = tfds.as_numpy(mnist_train) \n",
        "mnist_test = tfds.as_numpy(mnist_test)\n",
        "\n",
        "x_train, y_train = mnist_train[\"image\"], mnist_train[\"label\"] # seperate the x and y\n",
        "x_test, y_test = mnist_test[\"image\"], mnist_test[\"label\"]\n",
        "\n"
      ],
      "execution_count": 0,
      "outputs": []
    },
    {
      "cell_type": "code",
      "metadata": {
        "id": "nXcV_mmqSPBc",
        "colab_type": "code",
        "colab": {}
      },
      "source": [
        "from sklearn.model_selection import KFold\n",
        "from sklearn.metrics import confusion_matrix, accuracy_score"
      ],
      "execution_count": 0,
      "outputs": []
    },
    {
      "cell_type": "code",
      "metadata": {
        "id": "miwtO_RnSO9O",
        "colab_type": "code",
        "colab": {
          "base_uri": "https://localhost:8080/",
          "height": 35
        },
        "outputId": "ee044d0e-31a2-4368-98fa-23581119f795"
      },
      "source": [
        "kf = KFold(n_splits=10, shuffle=True )\n",
        "kf.get_n_splits(x_train)"
      ],
      "execution_count": 28,
      "outputs": [
        {
          "output_type": "execute_result",
          "data": {
            "text/plain": [
              "10"
            ]
          },
          "metadata": {
            "tags": []
          },
          "execution_count": 28
        }
      ]
    },
    {
      "cell_type": "code",
      "metadata": {
        "id": "7sWorgRjSO6Y",
        "colab_type": "code",
        "colab": {
          "base_uri": "https://localhost:8080/",
          "height": 35
        },
        "outputId": "3afba736-c283-4aa3-c065-27bd6c22406c"
      },
      "source": [
        "print(kf)"
      ],
      "execution_count": 30,
      "outputs": [
        {
          "output_type": "stream",
          "text": [
            "KFold(n_splits=10, random_state=None, shuffle=True)\n"
          ],
          "name": "stdout"
        }
      ]
    },
    {
      "cell_type": "code",
      "metadata": {
        "id": "bEIeCg2LSOyF",
        "colab_type": "code",
        "colab": {
          "base_uri": "https://localhost:8080/",
          "height": 191
        },
        "outputId": "f4e5f1d8-f7eb-4e5a-ccdb-f4067a9676ad"
      },
      "source": [
        "for train_index, test_index in kf.split(x_train):\n",
        "  print(\"TRAIN:\", train_index, \"TEST:\", test_index) \n",
        "  # X_train, X_test =x_train[train_index], x_train[test_index]\n"
      ],
      "execution_count": 44,
      "outputs": [
        {
          "output_type": "stream",
          "text": [
            "TRAIN: [    0     1     2 ... 59996 59997 59998] TEST: [    7    11    55 ... 59980 59990 59999]\n",
            "TRAIN: [    0     1     2 ... 59996 59998 59999] TEST: [    3     9    20 ... 59950 59959 59997]\n",
            "TRAIN: [    0     1     2 ... 59996 59997 59999] TEST: [   10    22    37 ... 59989 59995 59998]\n",
            "TRAIN: [    2     3     4 ... 59997 59998 59999] TEST: [    0     1     8 ... 59978 59985 59988]\n",
            "TRAIN: [    0     1     2 ... 59997 59998 59999] TEST: [    6    12    17 ... 59939 59964 59994]\n",
            "TRAIN: [    0     1     2 ... 59997 59998 59999] TEST: [   19    41    75 ... 59981 59983 59991]\n",
            "TRAIN: [    0     1     3 ... 59997 59998 59999] TEST: [    2     4    15 ... 59966 59974 59996]\n",
            "TRAIN: [    0     1     2 ... 59997 59998 59999] TEST: [    5    16    34 ... 59965 59970 59987]\n",
            "TRAIN: [    0     1     2 ... 59997 59998 59999] TEST: [   13    18    21 ... 59953 59958 59969]\n",
            "TRAIN: [    0     1     2 ... 59997 59998 59999] TEST: [   14    24    26 ... 59984 59992 59993]\n"
          ],
          "name": "stdout"
        }
      ]
    },
    {
      "cell_type": "code",
      "metadata": {
        "id": "VUa932AMMlLJ",
        "colab_type": "code",
        "colab": {
          "base_uri": "https://localhost:8080/",
          "height": 183
        },
        "outputId": "397a8fec-05c6-4697-ec0f-d7d72a8fb90e"
      },
      "source": [
        ""
      ],
      "execution_count": 32,
      "outputs": [
        {
          "output_type": "error",
          "ename": "NameError",
          "evalue": "ignored",
          "traceback": [
            "\u001b[0;31m---------------------------------------------------------------------------\u001b[0m",
            "\u001b[0;31mNameError\u001b[0m                                 Traceback (most recent call last)",
            "\u001b[0;32m<ipython-input-32-bd7dff215912>\u001b[0m in \u001b[0;36m<module>\u001b[0;34m()\u001b[0m\n\u001b[0;32m----> 1\u001b[0;31m \u001b[0;32mfor\u001b[0m \u001b[0mtrain\u001b[0m\u001b[0;34m,\u001b[0m \u001b[0mtest\u001b[0m \u001b[0;32min\u001b[0m \u001b[0mkf\u001b[0m\u001b[0;34m.\u001b[0m\u001b[0msplit\u001b[0m\u001b[0;34m(\u001b[0m\u001b[0mdata\u001b[0m\u001b[0;34m)\u001b[0m\u001b[0;34m:\u001b[0m\u001b[0;34m\u001b[0m\u001b[0;34m\u001b[0m\u001b[0m\n\u001b[0m\u001b[1;32m      2\u001b[0m         \u001b[0mprint\u001b[0m\u001b[0;34m(\u001b[0m\u001b[0;34m'train: %s, test: %s'\u001b[0m \u001b[0;34m%\u001b[0m \u001b[0;34m(\u001b[0m\u001b[0mtrain\u001b[0m\u001b[0;34m,\u001b[0m \u001b[0mtest\u001b[0m\u001b[0;34m)\u001b[0m\u001b[0;34m)\u001b[0m\u001b[0;34m\u001b[0m\u001b[0;34m\u001b[0m\u001b[0m\n",
            "\u001b[0;31mNameError\u001b[0m: name 'data' is not defined"
          ]
        }
      ]
    },
    {
      "cell_type": "code",
      "metadata": {
        "id": "OS8Eaj5PPIDm",
        "colab_type": "code",
        "colab": {
          "base_uri": "https://localhost:8080/",
          "height": 35
        },
        "outputId": "01d58853-98b6-4166-a3f5-97b155daf1ba"
      },
      "source": [
        ""
      ],
      "execution_count": 22,
      "outputs": [
        {
          "output_type": "stream",
          "text": [
            "<class 'tensorflow.python.data.ops.dataset_ops.FlatMapDataset'>\n"
          ],
          "name": "stdout"
        }
      ]
    },
    {
      "cell_type": "code",
      "metadata": {
        "id": "f2YHSRNoKigL",
        "colab_type": "code",
        "colab": {
          "base_uri": "https://localhost:8080/",
          "height": 1000
        },
        "outputId": "3ae408a7-67e5-4686-adcd-2d419cc4ccf5"
      },
      "source": [
        "for train_index, test_index in kf.split(x_train):\n",
        "    #reduces to 0-1 from 0-255\n",
        "    #this may not have much of a change on the output\n",
        "    x_train = tf.keras.utils.normalize(x_train, axis=1)\n",
        "    x_test = tf.keras.utils.normalize(x_test, axis=1)\n",
        "\n",
        "    #Using sequential model with 2 layered neural network with each having 128 neurons\n",
        "    model = tf.keras.models.Sequential()\n",
        "    model.add(tf.keras.layers.Flatten())\n",
        "    model.add(tf.keras.layers.Dense(512, activation=tf.nn.relu))\n",
        "    model.add(tf.keras.layers.Dense(256, activation=tf.nn.relu))\n",
        "    model.add(tf.keras.layers.Dense(128, activation=tf.nn.relu))\n",
        "    model.add(tf.keras.layers.Dense(10, activation=tf.nn.softmax))\n",
        "\n",
        "    model.compile(optimizer= 'adam',\n",
        "                  \n",
        "                  loss='sparse_categorical_crossentropy',\n",
        "                  metrics=['accuracy'])\n",
        "\n",
        "    model.fit(x_train, y_train, epochs=6)\n",
        "\n",
        "    val_loss, val_acc = model.evaluate(x_test, y_test)\n",
        "    print( train_index)\n",
        "    print(val_acc, val_loss)"
      ],
      "execution_count": 48,
      "outputs": [
        {
          "output_type": "stream",
          "text": [
            "Epoch 1/6\n",
            "1875/1875 [==============================] - 10s 5ms/step - loss: 0.2117 - accuracy: 0.9357\n",
            "Epoch 2/6\n",
            "1875/1875 [==============================] - 10s 5ms/step - loss: 0.0902 - accuracy: 0.9722\n",
            "Epoch 3/6\n",
            "1875/1875 [==============================] - 10s 5ms/step - loss: 0.0609 - accuracy: 0.9804\n",
            "Epoch 4/6\n",
            "1875/1875 [==============================] - 10s 5ms/step - loss: 0.0441 - accuracy: 0.9852\n",
            "Epoch 5/6\n",
            "1875/1875 [==============================] - 10s 5ms/step - loss: 0.0350 - accuracy: 0.9892\n",
            "Epoch 6/6\n",
            "1875/1875 [==============================] - 10s 5ms/step - loss: 0.0278 - accuracy: 0.9909\n",
            "313/313 [==============================] - 1s 2ms/step - loss: 0.0942 - accuracy: 0.9771\n",
            "[    0     2     3 ... 59996 59997 59999]\n",
            "0.9771000146865845 0.09419939666986465\n",
            "Epoch 1/6\n",
            "1875/1875 [==============================] - 10s 5ms/step - loss: 0.2095 - accuracy: 0.9365\n",
            "Epoch 2/6\n",
            "1875/1875 [==============================] - 10s 5ms/step - loss: 0.0880 - accuracy: 0.9727\n",
            "Epoch 3/6\n",
            "1875/1875 [==============================] - 10s 5ms/step - loss: 0.0590 - accuracy: 0.9813\n",
            "Epoch 4/6\n",
            "1875/1875 [==============================] - 10s 5ms/step - loss: 0.0447 - accuracy: 0.9854\n",
            "Epoch 5/6\n",
            "1875/1875 [==============================] - 10s 5ms/step - loss: 0.0347 - accuracy: 0.9887\n",
            "Epoch 6/6\n",
            "1875/1875 [==============================] - 10s 5ms/step - loss: 0.0282 - accuracy: 0.9906\n",
            "313/313 [==============================] - 1s 2ms/step - loss: 0.0954 - accuracy: 0.9759\n",
            "[    0     1     2 ... 59996 59998 59999]\n",
            "0.9758999943733215 0.09541840851306915\n",
            "Epoch 1/6\n",
            "1875/1875 [==============================] - 10s 5ms/step - loss: 0.2118 - accuracy: 0.9352\n",
            "Epoch 2/6\n",
            "1875/1875 [==============================] - 10s 5ms/step - loss: 0.0872 - accuracy: 0.9728\n",
            "Epoch 3/6\n",
            "1875/1875 [==============================] - 12s 7ms/step - loss: 0.0625 - accuracy: 0.9809\n",
            "Epoch 4/6\n",
            "1875/1875 [==============================] - 11s 6ms/step - loss: 0.0445 - accuracy: 0.9861\n",
            "Epoch 5/6\n",
            "1875/1875 [==============================] - 10s 5ms/step - loss: 0.0348 - accuracy: 0.9891\n",
            "Epoch 6/6\n",
            "1875/1875 [==============================] - 10s 5ms/step - loss: 0.0308 - accuracy: 0.9901\n",
            "313/313 [==============================] - 1s 2ms/step - loss: 0.0868 - accuracy: 0.9774\n",
            "[    0     1     2 ... 59997 59998 59999]\n",
            "0.977400004863739 0.08680324256420135\n",
            "Epoch 1/6\n",
            "1875/1875 [==============================] - 10s 5ms/step - loss: 0.2078 - accuracy: 0.9372\n",
            "Epoch 2/6\n",
            "1875/1875 [==============================] - 10s 5ms/step - loss: 0.0884 - accuracy: 0.9736\n",
            "Epoch 3/6\n",
            "1875/1875 [==============================] - 10s 5ms/step - loss: 0.0609 - accuracy: 0.9807\n",
            "Epoch 4/6\n",
            "1875/1875 [==============================] - 10s 6ms/step - loss: 0.0456 - accuracy: 0.9855\n",
            "Epoch 5/6\n",
            "1875/1875 [==============================] - 10s 6ms/step - loss: 0.0356 - accuracy: 0.9883\n",
            "Epoch 6/6\n",
            "1875/1875 [==============================] - 11s 6ms/step - loss: 0.0289 - accuracy: 0.9904\n",
            "313/313 [==============================] - 1s 2ms/step - loss: 0.0882 - accuracy: 0.9779\n",
            "[    0     1     2 ... 59997 59998 59999]\n",
            "0.9779000282287598 0.0881907194852829\n",
            "Epoch 1/6\n",
            "1875/1875 [==============================] - 10s 5ms/step - loss: 0.2097 - accuracy: 0.9363\n",
            "Epoch 2/6\n",
            "1875/1875 [==============================] - 10s 5ms/step - loss: 0.0884 - accuracy: 0.9725\n",
            "Epoch 3/6\n",
            "1875/1875 [==============================] - 10s 5ms/step - loss: 0.0614 - accuracy: 0.9811\n",
            "Epoch 4/6\n",
            "1875/1875 [==============================] - 10s 5ms/step - loss: 0.0444 - accuracy: 0.9856\n",
            "Epoch 5/6\n",
            "1875/1875 [==============================] - 10s 5ms/step - loss: 0.0344 - accuracy: 0.9891\n",
            "Epoch 6/6\n",
            "1875/1875 [==============================] - 10s 5ms/step - loss: 0.0277 - accuracy: 0.9912\n",
            "313/313 [==============================] - 1s 2ms/step - loss: 0.1095 - accuracy: 0.9759\n",
            "[    0     1     2 ... 59997 59998 59999]\n",
            "0.9758999943733215 0.10950632393360138\n",
            "Epoch 1/6\n",
            "1875/1875 [==============================] - 10s 5ms/step - loss: 0.2115 - accuracy: 0.9351\n",
            "Epoch 2/6\n",
            "1875/1875 [==============================] - 10s 5ms/step - loss: 0.0888 - accuracy: 0.9726\n",
            "Epoch 3/6\n",
            "1875/1875 [==============================] - 10s 5ms/step - loss: 0.0599 - accuracy: 0.9808\n",
            "Epoch 4/6\n",
            "1875/1875 [==============================] - 10s 5ms/step - loss: 0.0470 - accuracy: 0.9847\n",
            "Epoch 5/6\n",
            "1875/1875 [==============================] - 10s 5ms/step - loss: 0.0348 - accuracy: 0.9883\n",
            "Epoch 6/6\n",
            "1875/1875 [==============================] - 10s 5ms/step - loss: 0.0276 - accuracy: 0.9913\n",
            "313/313 [==============================] - 1s 3ms/step - loss: 0.0890 - accuracy: 0.9765\n",
            "[    0     1     3 ... 59997 59998 59999]\n",
            "0.9764999747276306 0.08900266885757446\n",
            "Epoch 1/6\n",
            "1875/1875 [==============================] - 10s 5ms/step - loss: 0.2091 - accuracy: 0.9366\n",
            "Epoch 2/6\n",
            "1875/1875 [==============================] - 10s 5ms/step - loss: 0.0876 - accuracy: 0.9727\n",
            "Epoch 3/6\n",
            "1875/1875 [==============================] - 10s 5ms/step - loss: 0.0605 - accuracy: 0.9810\n",
            "Epoch 4/6\n",
            "1875/1875 [==============================] - 10s 5ms/step - loss: 0.0451 - accuracy: 0.9851\n",
            "Epoch 5/6\n",
            "1875/1875 [==============================] - 10s 5ms/step - loss: 0.0349 - accuracy: 0.9889\n",
            "Epoch 6/6\n",
            "1875/1875 [==============================] - 10s 5ms/step - loss: 0.0294 - accuracy: 0.9901\n",
            "313/313 [==============================] - 1s 2ms/step - loss: 0.0937 - accuracy: 0.9767\n",
            "[    0     1     2 ... 59997 59998 59999]\n",
            "0.9767000079154968 0.09374465048313141\n",
            "Epoch 1/6\n",
            "1875/1875 [==============================] - 10s 5ms/step - loss: 0.2089 - accuracy: 0.9365\n",
            "Epoch 2/6\n",
            "1875/1875 [==============================] - 10s 5ms/step - loss: 0.0869 - accuracy: 0.9732\n",
            "Epoch 3/6\n",
            "1875/1875 [==============================] - 10s 5ms/step - loss: 0.0607 - accuracy: 0.9807\n",
            "Epoch 4/6\n",
            "1875/1875 [==============================] - 10s 5ms/step - loss: 0.0443 - accuracy: 0.9856\n",
            "Epoch 5/6\n",
            "1875/1875 [==============================] - 10s 5ms/step - loss: 0.0358 - accuracy: 0.9888\n",
            "Epoch 6/6\n",
            "1875/1875 [==============================] - 10s 5ms/step - loss: 0.0291 - accuracy: 0.9908\n",
            "313/313 [==============================] - 1s 2ms/step - loss: 0.0798 - accuracy: 0.9788\n",
            "[    0     1     2 ... 59997 59998 59999]\n",
            "0.9787999987602234 0.07982384413480759\n",
            "Epoch 1/6\n",
            "1875/1875 [==============================] - 10s 5ms/step - loss: 0.2091 - accuracy: 0.9367\n",
            "Epoch 2/6\n",
            "1875/1875 [==============================] - 10s 5ms/step - loss: 0.0876 - accuracy: 0.9726\n",
            "Epoch 3/6\n",
            "1875/1875 [==============================] - 11s 6ms/step - loss: 0.0605 - accuracy: 0.9813\n",
            "Epoch 4/6\n",
            "1875/1875 [==============================] - 10s 5ms/step - loss: 0.0447 - accuracy: 0.9857\n",
            "Epoch 5/6\n",
            "1875/1875 [==============================] - 10s 6ms/step - loss: 0.0359 - accuracy: 0.9886\n",
            "Epoch 6/6\n",
            "1875/1875 [==============================] - 11s 6ms/step - loss: 0.0288 - accuracy: 0.9908\n",
            "313/313 [==============================] - 1s 2ms/step - loss: 0.0823 - accuracy: 0.9785\n",
            "[    1     2     3 ... 59997 59998 59999]\n",
            "0.9785000085830688 0.08233627676963806\n",
            "Epoch 1/6\n",
            "1875/1875 [==============================] - 10s 5ms/step - loss: 0.2105 - accuracy: 0.9365\n",
            "Epoch 2/6\n",
            "1875/1875 [==============================] - 10s 5ms/step - loss: 0.0895 - accuracy: 0.9726\n",
            "Epoch 3/6\n",
            "1875/1875 [==============================] - 10s 5ms/step - loss: 0.0610 - accuracy: 0.9805\n",
            "Epoch 4/6\n",
            "1875/1875 [==============================] - 10s 5ms/step - loss: 0.0467 - accuracy: 0.9850\n",
            "Epoch 5/6\n",
            "1875/1875 [==============================] - 10s 5ms/step - loss: 0.0352 - accuracy: 0.9886\n",
            "Epoch 6/6\n",
            "1875/1875 [==============================] - 10s 5ms/step - loss: 0.0283 - accuracy: 0.9907\n",
            "313/313 [==============================] - 1s 2ms/step - loss: 0.0879 - accuracy: 0.9777\n",
            "[    0     1     2 ... 59996 59997 59998]\n",
            "0.9776999950408936 0.08787929266691208\n"
          ],
          "name": "stdout"
        }
      ]
    },
    {
      "cell_type": "code",
      "metadata": {
        "id": "HaiRGCj7MLJd",
        "colab_type": "code",
        "colab": {}
      },
      "source": [
        ""
      ],
      "execution_count": 0,
      "outputs": []
    }
  ]
}